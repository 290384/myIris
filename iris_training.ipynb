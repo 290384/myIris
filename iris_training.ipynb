{
 "cells": [
  {
   "cell_type": "code",
   "execution_count": 1,
   "metadata": {
    "collapsed": true
   },
   "outputs": [
    {
     "name": "stdout",
     "output_type": "stream",
     "text": [
      "Classification Accuracy:  0.9777777777777777\n"
     ]
    }
   ],
   "source": [
    "\n",
    "# import sklearn data and data pre-processing libraries\n",
    "from sklearn import datasets\n",
    "from sklearn.model_selection import train_test_split\n",
    "\n",
    "# import sklearn classification evaluation library\n",
    "from sklearn.metrics import accuracy_score\n",
    "\n",
    "# import sklearn naive bayes classifier library\n",
    "from sklearn.naive_bayes import GaussianNB\n",
    "\n",
    "# import pickle library for serialization\n",
    "import pickle\n",
    "\n",
    "# load data\n",
    "iris = datasets.load_iris()\n",
    "\n",
    "# preprocess data\n",
    "# encode features\n",
    "x = iris.data\n",
    "# encode target\n",
    "y = iris.target\n",
    "\n",
    "# split data\n",
    "X_train, X_test, y_train, y_test = train_test_split(x, y, test_size=0.3, random_state=42)\n",
    "\n",
    "# Instantiate Gaussian Naive Bayes\n",
    "nb_model = GaussianNB(priors=None, var_smoothing=1e-09)\n",
    "\n",
    "# Model Training\n",
    "nb_model.fit(X_train, y_train)\n",
    "\n",
    "# Prediction with Test Set\n",
    "predictions = nb_model.predict(X_test)\n",
    "\n",
    "# determine and print the accuracy score\n",
    "print(\"Classification Accuracy: \", accuracy_score(y_test, predictions))\n",
    "\n",
    "# serialize model\n",
    "with open('iris_trained_model.pkl', 'wb') as f:\n",
    "    pickle.dump(nb_model, f)"
   ]
  }
 ],
 "metadata": {
  "kernelspec": {
   "display_name": "Python 3",
   "language": "python",
   "name": "python3"
  },
  "language_info": {
   "codemirror_mode": {
    "name": "ipython",
    "version": 2
   },
   "file_extension": ".py",
   "mimetype": "text/x-python",
   "name": "python",
   "nbconvert_exporter": "python",
   "pygments_lexer": "ipython2",
   "version": "2.7.6"
  }
 },
 "nbformat": 4,
 "nbformat_minor": 0
}